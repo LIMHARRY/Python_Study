{
 "cells": [
  {
   "cell_type": "markdown",
   "metadata": {},
   "source": [
    "### 모듈이란?\n",
    "\n",
    "> 1. 함수나 변수들을 모아 놓은 library들 의미<br>\n",
    "&nbsp;&nbsp; 외부 library들 사용하는 방법, 외부에 내 코드를 공유하는 방법<br>\n",
    "\n",
    "> 2. 모듈 사용 방법 <br>\n",
    "2-1. 모듈의 파일 확장자 : py <br>\n",
    "2-2. 모듈 사용 문법<br>\n",
    "  &nbsp;&nbsp;&nbsp; a. import file명 <br>\n",
    "  &nbsp;&nbsp;&nbsp; b. from file명 import 함수명<br>\n"
   ]
  },
  {
   "cell_type": "code",
   "execution_count": 11,
   "metadata": {},
   "outputs": [
    {
     "name": "stdout",
     "output_type": "stream",
     "text": [
      "Overwriting fibo.py\n"
     ]
    }
   ],
   "source": [
    "%%writefile fibo.py\n",
    "\n",
    "def fib(n):\n",
    "    a, b = 0, 1\n",
    "    while b<n:\n",
    "        print(b, end=' ')\n",
    "        a, b = b, a+b\n",
    "        \n",
    "        \n",
    "#자바에서 가장 먼저 실행되는 메소드,\n",
    "#없으면 안되는 실행 메소드 : main\n",
    "# python 명령어로 직접 호출시에만 자동 실행되는 특수 문법\n",
    "# 외부에서 모듈로 import시에는 무시되는 영역 \n",
    "if __name__ == \"__main__\":\n",
    "    print(\"python은 직접 명령어로 실행 시 자동 호출되는 영역\")"
   ]
  },
  {
   "cell_type": "code",
   "execution_count": 13,
   "metadata": {},
   "outputs": [
    {
     "name": "stdout",
     "output_type": "stream",
     "text": [
      "python은 직접 명령어로 실행 시 자동 호출되는 영역\n"
     ]
    }
   ],
   "source": [
    "#python 명령어로 직접 프로그램 실행하는 방법\n",
    "# 도스창에선 >python file명.py\n",
    "!python fibo.py"
   ]
  },
  {
   "cell_type": "code",
   "execution_count": 12,
   "metadata": {},
   "outputs": [
    {
     "name": "stdout",
     "output_type": "stream",
     "text": [
      "1 1 2 3 "
     ]
    }
   ],
   "source": [
    "# 파일명으로만 import\n",
    "# 파일명.함수명으로 호출\n",
    "import fibo \n",
    "fibo.fib(5)\n",
    "\n",
    "import numpy as np\n",
    "#numpy는 파일명"
   ]
  },
  {
   "cell_type": "code",
   "execution_count": 26,
   "metadata": {},
   "outputs": [
    {
     "name": "stdout",
     "output_type": "stream",
     "text": [
      "1 1 2 3 "
     ]
    }
   ],
   "source": [
    "#모듈(파일명) 에 별칭 부여\n",
    "import fibo as f\n",
    "f.fib(5)"
   ]
  },
  {
   "cell_type": "code",
   "execution_count": 14,
   "metadata": {},
   "outputs": [
    {
     "name": "stdout",
     "output_type": "stream",
     "text": [
      "1 1 2 3 5 8 "
     ]
    }
   ],
   "source": [
    "# from 모듈(파일명) improt 함수명\n",
    "from fibo import fib\n",
    "fib(10)"
   ]
  },
  {
   "cell_type": "code",
   "execution_count": 4,
   "metadata": {},
   "outputs": [
    {
     "name": "stdout",
     "output_type": "stream",
     "text": [
      "1 1 2 3 5 8 13 \n"
     ]
    }
   ],
   "source": [
    "# fibo라는 파일 즉 모듈 내부에 존재하는 다수의 함수를 사용할 경우가 아니라면 비추\n",
    "from fibo import *\n",
    "fib(20)"
   ]
  },
  {
   "cell_type": "code",
   "execution_count": 15,
   "metadata": {},
   "outputs": [
    {
     "name": "stdout",
     "output_type": "stream",
     "text": [
      "Writing mymath.py\n"
     ]
    }
   ],
   "source": [
    "%%writefile mymath.py\n",
    "# jupyter notebook에서 python 파일 생성하는 명령어\n",
    "\n",
    "\n",
    "mypi = 3.14\n",
    "def add(a,b):\n",
    "    return a+b\n",
    "\n",
    "def area(r):\n",
    "    return r*r*mypi"
   ]
  },
  {
   "cell_type": "code",
   "execution_count": 16,
   "metadata": {},
   "outputs": [
    {
     "name": "stdout",
     "output_type": "stream",
     "text": [
      " C 드라이브의 볼륨에는 이름이 없습니다.\n",
      " 볼륨 일련 번호: 8A33-B59C\n",
      "\n",
      " C:\\0.ITStudy\\6.Python 디렉터리\n",
      "\n",
      "2018-11-19  오전 11:00    <DIR>          .\n",
      "2018-11-19  오전 11:00    <DIR>          ..\n",
      "2018-11-13  오후 03:02    <DIR>          .ipynb_checkpoints\n",
      "2018-11-15  오전 09:24    <DIR>          0.test\n",
      "2018-11-13  오후 04:00    <DIR>          5.lab\n",
      "2018-11-08  오전 10:14    <DIR>          5.공유lab\n",
      "2018-11-13  오전 09:53    <DIR>          dataSet\n",
      "2018-11-07  오후 03:59             9,054 ex01_syntax.ipynb\n",
      "2018-11-07  오후 04:12             2,073 ex02_formating.ipynb\n",
      "2018-11-07  오후 04:18             2,495 ex03_string.ipynb\n",
      "2018-11-19  오전 10:55               327 fibo.py\n",
      "2018-11-19  오전 11:00               146 mymath.py\n",
      "2018-11-08  오전 09:26             5,696 step01Calculation.ipynb\n",
      "2018-11-08  오후 12:53            26,005 step02Type1.ipynb\n",
      "2018-11-08  오후 04:09            13,932 step03ConditionLoop.ipynb\n",
      "2018-11-09  오후 03:03            54,471 step04Type2ListTupleDictSet.ipynb\n",
      "2018-11-12  오후 01:37            19,619 step05Function.ipynb\n",
      "2018-11-12  오후 03:23            16,595 step06Comprehension.ipynb\n",
      "2018-11-12  오후 03:49             5,849 step07formatting.ipynb\n",
      "2018-11-13  오후 02:53            18,010 step08Class.ipynb\n",
      "2018-11-13  오후 04:30            12,636 step09OOP.ipynb\n",
      "2018-11-19  오전 11:00             5,829 step10Module.ipynb\n",
      "2018-11-13  오전 09:55             3,751 step11FileIO.ipynb\n",
      "2018-11-19  오전 10:51    <DIR>          __pycache__\n",
      "2018-11-19  오전 10:51    <DIR>          새 폴더\n",
      "              16개 파일             196,488 바이트\n",
      "               9개 디렉터리  128,356,352,000 바이트 남음\n"
     ]
    }
   ],
   "source": [
    "!dir"
   ]
  },
  {
   "cell_type": "code",
   "execution_count": 21,
   "metadata": {},
   "outputs": [
    {
     "name": "stdout",
     "output_type": "stream",
     "text": [
      "30\n"
     ]
    }
   ],
   "source": [
    "from mymath import add\n",
    "\n",
    "print(add(10, 20))"
   ]
  },
  {
   "cell_type": "code",
   "execution_count": 22,
   "metadata": {},
   "outputs": [],
   "source": [
    "#절대 가져오기 : sys.path변수에 정해진 순서대로  가져옴\n",
    "#상대 가져오기 : 현재모듈에 속해있는 패키지를 기준으로 상대적인 위치에서 가져올 모듈을 찾는다.\n",
    "import math  #math는 모듈이름   math.pi\n",
    "from math import sin, cos, pi #math모듈에서 특정이름만을 현재 이름공간으로 가져온다.  pi\n",
    "from math import *\n",
    "\n",
    "# 별칭 부여(권장하는 이름으로 작성 필수)\n",
    "import numpy as np #모듈이름을 다른 이름으로 사용하고자 하는 경우. 이름이 너무 길거나 이름이 충돌된 경우 \n",
    "from math import factorial as fact #모듈내의 정의한 이름을 다른 이름으로 사용하고자 하는 경우  \n",
    "from math import factorial as fact , sqrt as sq"
   ]
  },
  {
   "cell_type": "code",
   "execution_count": 23,
   "metadata": {},
   "outputs": [
    {
     "data": {
      "text/plain": [
       "'math'"
      ]
     },
     "execution_count": 23,
     "metadata": {},
     "output_type": "execute_result"
    }
   ],
   "source": [
    "import math\n",
    "math.__name__"
   ]
  },
  {
   "cell_type": "code",
   "execution_count": 25,
   "metadata": {},
   "outputs": [
    {
     "data": {
      "text/plain": [
       "'factorial'"
      ]
     },
     "execution_count": 25,
     "metadata": {},
     "output_type": "execute_result"
    }
   ],
   "source": [
    "from math import factorial as fact\n",
    "fact.__name__"
   ]
  },
  {
   "cell_type": "code",
   "execution_count": null,
   "metadata": {},
   "outputs": [],
   "source": []
  }
 ],
 "metadata": {
  "kernelspec": {
   "display_name": "Python 3",
   "language": "python",
   "name": "python3"
  },
  "language_info": {
   "codemirror_mode": {
    "name": "ipython",
    "version": 3
   },
   "file_extension": ".py",
   "mimetype": "text/x-python",
   "name": "python",
   "nbconvert_exporter": "python",
   "pygments_lexer": "ipython3",
   "version": "3.7.0"
  }
 },
 "nbformat": 4,
 "nbformat_minor": 2
}
