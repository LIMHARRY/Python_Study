{
 "cells": [
  {
   "cell_type": "markdown",
   "metadata": {},
   "source": [
    "### 06. 컴프리헨션\n",
    "\n",
    "1. 리스트, 세트, 딕셔너리 내에서 실행 할 수 있는 한 줄 for문\n",
    "- 리스트 컴프리헨션, 세트 컴프리헨션, 딕셔너리 컴프리헨션라고 함\n",
    "- 컴프리헨션 : 내장, 내포의 의미\n",
    "    "
   ]
  },
  {
   "cell_type": "code",
   "execution_count": 1,
   "metadata": {},
   "outputs": [],
   "source": [
    "datas = []\n",
    "for x in range(10):\n",
    "    datas.append(x**2)"
   ]
  },
  {
   "cell_type": "code",
   "execution_count": 2,
   "metadata": {},
   "outputs": [
    {
     "data": {
      "text/plain": [
       "[0, 1, 4, 9, 16, 25, 36, 49, 64, 81]"
      ]
     },
     "execution_count": 2,
     "metadata": {},
     "output_type": "execute_result"
    }
   ],
   "source": [
    "datas"
   ]
  },
  {
   "cell_type": "code",
   "execution_count": 3,
   "metadata": {},
   "outputs": [
    {
     "data": {
      "text/plain": [
       "[0, 1, 4, 9, 16, 25, 36, 49, 64, 81]"
      ]
     },
     "execution_count": 3,
     "metadata": {},
     "output_type": "execute_result"
    }
   ],
   "source": [
    "datas = [x**2 for x in range(10)]\n",
    "datas"
   ]
  },
  {
   "cell_type": "code",
   "execution_count": 7,
   "metadata": {},
   "outputs": [
    {
     "data": {
      "text/plain": [
       "[2, 3, 4, 5, 6, 7]"
      ]
     },
     "execution_count": 7,
     "metadata": {},
     "output_type": "execute_result"
    }
   ],
   "source": [
    "# 0~5까지 반복해서 순차적으로 +2를 한 결과값들을 하나의 list에 저장 후 출력\n",
    "'''\n",
    "0~5 : range(6)\n",
    "순차적으로 : 반복 for\n",
    "+2 : 수식 \n",
    "결과값을 하나의 list 저장 : list\n",
    "'''\n",
    "datas2 = [v+2 for v in range(6)]\n",
    "datas2"
   ]
  },
  {
   "cell_type": "code",
   "execution_count": 9,
   "metadata": {},
   "outputs": [
    {
     "data": {
      "text/plain": [
       "[2, 4, 6]"
      ]
     },
     "execution_count": 9,
     "metadata": {},
     "output_type": "execute_result"
    }
   ],
   "source": [
    "datas2 =[]\n",
    "for v in range(6):\n",
    "    if v%2 == 0:\n",
    "        datas2.append(v+2)\n",
    "datas2"
   ]
  },
  {
   "cell_type": "code",
   "execution_count": 10,
   "metadata": {},
   "outputs": [
    {
     "data": {
      "text/plain": [
       "[2, 4, 6]"
      ]
     },
     "execution_count": 10,
     "metadata": {},
     "output_type": "execute_result"
    }
   ],
   "source": [
    "datas2 = [v+2 for v in range(6) if v%2 == 0] \n",
    "datas2"
   ]
  },
  {
   "cell_type": "code",
   "execution_count": 12,
   "metadata": {},
   "outputs": [
    {
     "data": {
      "text/plain": [
       "[(1, 3), (1, 4), (2, 3), (2, 1), (2, 4), (3, 1), (3, 4)]"
      ]
     },
     "execution_count": 12,
     "metadata": {},
     "output_type": "execute_result"
    }
   ],
   "source": [
    "# list에 튜플 생성해서 저장하는 로직\n",
    "combs = []\n",
    "for x in [1, 2, 3]:\n",
    "    for y in [3, 1, 4]:\n",
    "        if x != y:\n",
    "            combs.append((x, y))\n",
    "combs       "
   ]
  },
  {
   "cell_type": "code",
   "execution_count": 13,
   "metadata": {},
   "outputs": [
    {
     "data": {
      "text/plain": [
       "[(1, 3), (1, 4), (2, 3), (2, 1), (2, 4), (3, 1), (3, 4)]"
      ]
     },
     "execution_count": 13,
     "metadata": {},
     "output_type": "execute_result"
    }
   ],
   "source": [
    "combs2 = [(x, y) for x in [1, 2, 3] for y in [3, 1, 4] if x != y ]\n",
    "combs2"
   ]
  },
  {
   "cell_type": "code",
   "execution_count": 6,
   "metadata": {},
   "outputs": [
    {
     "data": {
      "text/plain": [
       "{1: 'one', 2: 'two'}"
      ]
     },
     "execution_count": 6,
     "metadata": {},
     "output_type": "execute_result"
    }
   ],
   "source": [
    "# {key:value, ... } - dict 구조에 comprehension 적용해 보기\n",
    "'''\n",
    "() : 불변인 튜플\n",
    "[] : list는 데이터 타입과 무관하게 혼용해서 다 수용\n",
    "[(1, 'one'), (2, 'two')] : 튜플들을 보유한 리스트\n",
    "이 리스트로 딕셔너리 생성\n",
    "'''\n",
    "{x:y for x, y in [(1, 'one'), (2, 'two')]}"
   ]
  },
  {
   "cell_type": "code",
   "execution_count": 16,
   "metadata": {},
   "outputs": [],
   "source": [
    "v = {1:2, 2:3, 3:4}"
   ]
  },
  {
   "cell_type": "code",
   "execution_count": 17,
   "metadata": {},
   "outputs": [
    {
     "data": {
      "text/plain": [
       "dict"
      ]
     },
     "execution_count": 17,
     "metadata": {},
     "output_type": "execute_result"
    }
   ],
   "source": [
    "type(v)"
   ]
  },
  {
   "cell_type": "code",
   "execution_count": 19,
   "metadata": {
    "scrolled": true
   },
   "outputs": [
    {
     "data": {
      "text/plain": [
       "{1: 2, 2: 3, 3: 4}"
      ]
     },
     "execution_count": 19,
     "metadata": {},
     "output_type": "execute_result"
    }
   ],
   "source": [
    "{x:x+1 for x in range(1, 4)}"
   ]
  },
  {
   "cell_type": "markdown",
   "metadata": {},
   "source": [
    "### doc를 기반으로 한 나만의 예제 구성  \n",
    "> url<br>\n",
    "https://docs.python.org/ko/3.6/library/functions.html#zip                                                                         "
   ]
  },
  {
   "cell_type": "code",
   "execution_count": 19,
   "metadata": {},
   "outputs": [
    {
     "name": "stdout",
     "output_type": "stream",
     "text": [
      "<zip object at 0x000001F6AB33D388>\n"
     ]
    }
   ],
   "source": [
    "x = [1, 2, 3]\n",
    "y = [4, 5, 6]\n",
    "print(zip(x, y))"
   ]
  },
  {
   "cell_type": "code",
   "execution_count": 27,
   "metadata": {},
   "outputs": [],
   "source": [
    "data = zip(x, y)"
   ]
  },
  {
   "cell_type": "code",
   "execution_count": 28,
   "metadata": {},
   "outputs": [
    {
     "ename": "TypeError",
     "evalue": "'zip' object is not subscriptable",
     "output_type": "error",
     "traceback": [
      "\u001b[1;31m---------------------------------------------------------------------------\u001b[0m",
      "\u001b[1;31mTypeError\u001b[0m                                 Traceback (most recent call last)",
      "\u001b[1;32m<ipython-input-28-6e2fb7fec372>\u001b[0m in \u001b[0;36m<module>\u001b[1;34m()\u001b[0m\n\u001b[1;32m----> 1\u001b[1;33m \u001b[0mdata\u001b[0m\u001b[1;33m[\u001b[0m\u001b[1;36m0\u001b[0m\u001b[1;33m,\u001b[0m \u001b[1;36m0\u001b[0m\u001b[1;33m]\u001b[0m\u001b[1;33m\u001b[0m\u001b[0m\n\u001b[0m",
      "\u001b[1;31mTypeError\u001b[0m: 'zip' object is not subscriptable"
     ]
    }
   ],
   "source": [
    "data[0, 0]"
   ]
  },
  {
   "cell_type": "code",
   "execution_count": 29,
   "metadata": {},
   "outputs": [
    {
     "data": {
      "text/plain": [
       "<zip at 0x1f6ab33de88>"
      ]
     },
     "execution_count": 29,
     "metadata": {},
     "output_type": "execute_result"
    }
   ],
   "source": [
    "data"
   ]
  },
  {
   "cell_type": "code",
   "execution_count": 30,
   "metadata": {},
   "outputs": [],
   "source": [
    "data2=list(data)"
   ]
  },
  {
   "cell_type": "code",
   "execution_count": 31,
   "metadata": {},
   "outputs": [
    {
     "data": {
      "text/plain": [
       "[(1, 4), (2, 5), (3, 6)]"
      ]
     },
     "execution_count": 31,
     "metadata": {},
     "output_type": "execute_result"
    }
   ],
   "source": [
    "data2"
   ]
  },
  {
   "cell_type": "code",
   "execution_count": 25,
   "metadata": {},
   "outputs": [
    {
     "data": {
      "text/plain": [
       "list"
      ]
     },
     "execution_count": 25,
     "metadata": {},
     "output_type": "execute_result"
    }
   ],
   "source": [
    "type(data2)"
   ]
  },
  {
   "cell_type": "code",
   "execution_count": 26,
   "metadata": {},
   "outputs": [
    {
     "data": {
      "text/plain": [
       "[]"
      ]
     },
     "execution_count": 26,
     "metadata": {},
     "output_type": "execute_result"
    }
   ],
   "source": [
    "data2"
   ]
  },
  {
   "cell_type": "code",
   "execution_count": 22,
   "metadata": {},
   "outputs": [
    {
     "name": "stdout",
     "output_type": "stream",
     "text": [
      "1   4\n",
      "2   5\n",
      "3   6\n"
     ]
    }
   ],
   "source": [
    "# zip 함수를 사용한 list들의 데이터를 활용하는 방법\n",
    "x = [1, 2, 3]\n",
    "y = [4, 5, 6]\n",
    "for x1, y1 in zip(x, y):\n",
    "    print(x1, ' ', y1)"
   ]
  },
  {
   "cell_type": "code",
   "execution_count": 6,
   "metadata": {},
   "outputs": [
    {
     "data": {
      "text/plain": [
       "[0, 1, 4, 9, 16, 25, 36, 49, 64, 81]"
      ]
     },
     "execution_count": 6,
     "metadata": {},
     "output_type": "execute_result"
    }
   ],
   "source": [
    "# ? 함축( value * value 식이 수행되는 로직 개발)\n",
    "# 데이터 값 : 0~9까지 (0*0, 1*1, 2*2,...)\n",
    "datas =[v*v for v in range(10)]\n",
    "datas"
   ]
  },
  {
   "cell_type": "code",
   "execution_count": 7,
   "metadata": {},
   "outputs": [
    {
     "data": {
      "text/plain": [
       "[0, 4, 16, 36, 64]"
      ]
     },
     "execution_count": 7,
     "metadata": {},
     "output_type": "execute_result"
    }
   ],
   "source": [
    "#? 앞단 예제의 결과중에 짝수값만으로 새로운 list 구성해서 출력하기\n",
    "datas =[v*v for v in range(10) if v%2==0]\n",
    "datas"
   ]
  },
  {
   "cell_type": "code",
   "execution_count": 8,
   "metadata": {},
   "outputs": [
    {
     "name": "stdout",
     "output_type": "stream",
     "text": [
      "0 4 16 36 64 "
     ]
    }
   ],
   "source": [
    "for v in range(10):\n",
    "    if v%2 == 0:\n",
    "        print(v*v, end=' ')"
   ]
  },
  {
   "cell_type": "code",
   "execution_count": 34,
   "metadata": {},
   "outputs": [
    {
     "data": {
      "text/plain": [
       "[[10, 11, 12], [13, 14, 15], [16, 17, 18]]"
      ]
     },
     "execution_count": 34,
     "metadata": {},
     "output_type": "execute_result"
    }
   ],
   "source": [
    "# 결과치가 다음과 같을 경우 어떻게 함축 표현식을 만들어야 하는지?\n",
    "# [ [10, 11, 12], [13, 14, 15], [16, 17, 18] ]\n",
    "\n",
    "[ [v1*3 + v2  for v2 in [10, 11, 12]  ] for v1 in [0, 1, 2] ]\n"
   ]
  },
  {
   "cell_type": "code",
   "execution_count": 26,
   "metadata": {},
   "outputs": [
    {
     "name": "stdout",
     "output_type": "stream",
     "text": [
      "[[10, 11, 12], [13, 14, 15], [16, 17, 18]]\n"
     ]
    }
   ],
   "source": [
    "# [ [10, 11, 12], [13, 14, 15], [16, 17, 18] ]\n",
    "# 기본 python 문법\n",
    "data = [] # 빈 리스트 생성\n",
    "\n",
    "for v1 in [0, 1, 2]:\n",
    "    innerData = [] # v1이 0일때, 1일때 등 빈 list 생성\n",
    "    for v2 in [10, 11, 12]:\n",
    "        innerData.append(v1*3 + v2)       \n",
    "    data.append(innerData)        \n",
    "print(data)        \n",
    "\n",
    "'''\n",
    "    v1= 0\n",
    "    v2 = 10, 11, 12\n",
    "    innerData v1*3 + v2 = [10, 11, 12]\n",
    "\n",
    "    v1= 1\n",
    "    v2 = 10, 11, 12\n",
    "    innerData v1*3 + v2 = [13, 14, 15]\n",
    "'''\n"
   ]
  },
  {
   "cell_type": "code",
   "execution_count": 57,
   "metadata": {},
   "outputs": [
    {
     "data": {
      "text/plain": [
       "[121,\n",
       " 242,\n",
       " 252,\n",
       " 252,\n",
       " 272,\n",
       " 464,\n",
       " 272,\n",
       " 323,\n",
       " 252,\n",
       " 414,\n",
       " 323,\n",
       " 494,\n",
       " 252,\n",
       " 525,\n",
       " 242,\n",
       " 484,\n",
       " 616,\n",
       " 414,\n",
       " 575,\n",
       " 696,\n",
       " 525,\n",
       " 575,\n",
       " 494,\n",
       " 676,\n",
       " 616,\n",
       " 464,\n",
       " 696]"
      ]
     },
     "execution_count": 57,
     "metadata": {},
     "output_type": "execute_result"
    }
   ],
   "source": [
    "eve = []\n",
    "for i in range(10, 30):\n",
    "    for j in range(10, 30):\n",
    "        a = i * j\n",
    "        if str(a) == str(a)[::-1]:\n",
    "            eve.append(a)\n",
    "eve"
   ]
  },
  {
   "cell_type": "markdown",
   "metadata": {},
   "source": [
    "### 내 짝꿍과 함께 하는 소소한 작품 하나\n",
    "1. 제약조건 : 함축 표현 이해를 위한 문제 만들기\n"
   ]
  },
  {
   "cell_type": "code",
   "execution_count": 51,
   "metadata": {},
   "outputs": [
    {
     "name": "stdout",
     "output_type": "stream",
     "text": [
      "[121, 242, 252, 252, 272, 464, 272, 323, 252, 414, 323, 494, 252, 525, 242, 484, 616, 414, 575, 696, 525, 575, 494, 676, 616, 464, 696]\n"
     ]
    }
   ],
   "source": [
    "eve = []\n",
    "for i in range(10, 30):\n",
    "    for j in range(10, 30):\n",
    "        a = i * j\n",
    "        if str(a) == str(a)[::-1]:\n",
    "            eve.append(a)\n",
    "print(eve)"
   ]
  },
  {
   "cell_type": "code",
   "execution_count": 64,
   "metadata": {},
   "outputs": [
    {
     "data": {
      "text/plain": [
       "['121',\n",
       " '242',\n",
       " '252',\n",
       " '252',\n",
       " '272',\n",
       " '464',\n",
       " '272',\n",
       " '323',\n",
       " '252',\n",
       " '414',\n",
       " '323',\n",
       " '494',\n",
       " '252',\n",
       " '525',\n",
       " '242',\n",
       " '484',\n",
       " '616',\n",
       " '414',\n",
       " '575',\n",
       " '696',\n",
       " '525',\n",
       " '575',\n",
       " '494',\n",
       " '676',\n",
       " '616',\n",
       " '464',\n",
       " '696']"
      ]
     },
     "execution_count": 64,
     "metadata": {},
     "output_type": "execute_result"
    }
   ],
   "source": [
    " [ (str(i*j))  for i in range(10, 30)  for j in range(10, 30) if str(i * j) == str(i * j)[::-1] ]"
   ]
  },
  {
   "cell_type": "markdown",
   "metadata": {},
   "source": [
    "### API 문서의 소스 분석해서 API 이해하기\n",
    "\n",
    "*** 제시받은 소스를 실행시키는 문제 해결 능력 함양 ***\n",
    "\n",
    "accumulate()     # running product <br>\n",
    "operator.mul <br>\n",
    "lambda x, _:  r * x * (1 - x) : _ 의미하는 것은?<br>\n",
    "\n",
    "url<br>\n",
    "https://docs.python.org/ko/3.6/library/itertools.html?highlight=enumeration#itertool-functions"
   ]
  },
  {
   "cell_type": "code",
   "execution_count": 4,
   "metadata": {},
   "outputs": [
    {
     "data": {
      "text/plain": [
       "['0.40',\n",
       " '0.91',\n",
       " '0.30',\n",
       " '0.81',\n",
       " '0.60',\n",
       " '0.92',\n",
       " '0.29',\n",
       " '0.79',\n",
       " '0.63',\n",
       " '0.88',\n",
       " '0.39',\n",
       " '0.90',\n",
       " '0.33',\n",
       " '0.84',\n",
       " '0.52',\n",
       " '0.95',\n",
       " '0.18',\n",
       " '0.57',\n",
       " '0.93',\n",
       " '0.25',\n",
       " '0.71',\n",
       " '0.79',\n",
       " '0.63',\n",
       " '0.88',\n",
       " '0.39',\n",
       " '0.91',\n",
       " '0.32',\n",
       " '0.83',\n",
       " '0.54',\n",
       " '0.95',\n",
       " '0.20',\n",
       " '0.60',\n",
       " '0.91',\n",
       " '0.30',\n",
       " '0.80',\n",
       " '0.60']"
      ]
     },
     "execution_count": 4,
     "metadata": {},
     "output_type": "execute_result"
    }
   ],
   "source": [
    "import operator\n",
    "import numpy as np\n",
    "\n",
    "def accumulate(iterable, func=operator.add):\n",
    "    'Return running totals'\n",
    "    # accumulate([1,2,3,4,5]) --> 1 3 6 10 15\n",
    "    # accumulate([1,2,3,4,5], operator.mul) --> 1 2 6 24 120\n",
    "    it = iter(iterable)\n",
    "    try:\n",
    "        total = next(it)\n",
    "    except StopIteration:\n",
    "        return\n",
    "    yield total\n",
    "    for element in it:\n",
    "        total = func(total, element)\n",
    "        yield total\n",
    "\n",
    "\n",
    "\n",
    "data = [3, 4, 6, 2, 1, 9, 0, 7, 5, 8]\n",
    "\n",
    "list(accumulate(data, operator.mul))     # running product\n",
    "list(accumulate(data, max))              # running maximum\n",
    "cashflows = [1000, -90, -90, -90, -90]\n",
    "list(accumulate(cashflows, lambda bal, pmt: bal*1.05 + pmt))\n",
    "logistic_map = lambda x, _:  r * x * (1 - x)\n",
    "r = 3.8\n",
    "x0 = 0.4\n",
    "inputs = np.repeat(x0, 36)     # only the initial value is used\n",
    "[format(x, '.2f') for x in accumulate(inputs, logistic_map)]\n"
   ]
  },
  {
   "cell_type": "code",
   "execution_count": null,
   "metadata": {},
   "outputs": [],
   "source": []
  }
 ],
 "metadata": {
  "kernelspec": {
   "display_name": "Python 3",
   "language": "python",
   "name": "python3"
  },
  "language_info": {
   "codemirror_mode": {
    "name": "ipython",
    "version": 3
   },
   "file_extension": ".py",
   "mimetype": "text/x-python",
   "name": "python",
   "nbconvert_exporter": "python",
   "pygments_lexer": "ipython3",
   "version": "3.7.0"
  }
 },
 "nbformat": 4,
 "nbformat_minor": 2
}
