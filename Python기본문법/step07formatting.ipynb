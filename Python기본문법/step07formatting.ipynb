{
 "cells": [
  {
   "cell_type": "markdown",
   "metadata": {},
   "source": [
    "### 튜플로 데이터 전달하는 방식\n",
    "1. %d : 정수 표현\n",
    "- %s : 문자 표현\n",
    "- %f : 부동 소수 표현"
   ]
  },
  {
   "cell_type": "code",
   "execution_count": 1,
   "metadata": {},
   "outputs": [],
   "source": [
    "# test data\n",
    "intValue = 30\n",
    "floatValue = 20.67"
   ]
  },
  {
   "cell_type": "code",
   "execution_count": 2,
   "metadata": {},
   "outputs": [
    {
     "name": "stdout",
     "output_type": "stream",
     "text": [
      "30 포멧 연습 20.670000\n"
     ]
    }
   ],
   "source": [
    "print(\"%d %s %f\" % (intValue, '포멧 연습', floatValue))"
   ]
  },
  {
   "cell_type": "code",
   "execution_count": 3,
   "metadata": {},
   "outputs": [
    {
     "name": "stdout",
     "output_type": "stream",
     "text": [
      "306 포멧 연습 20.67\n"
     ]
    }
   ],
   "source": [
    "print(\"%d %s %0.2f\" % (306, '포멧 연습', floatValue))"
   ]
  },
  {
   "cell_type": "code",
   "execution_count": 4,
   "metadata": {},
   "outputs": [
    {
     "name": "stdout",
     "output_type": "stream",
     "text": [
      "        30\n"
     ]
    }
   ],
   "source": [
    "# format 함수를 사용한 다양한 표현식\n",
    "print(format(intValue, \"10d\"))"
   ]
  },
  {
   "cell_type": "code",
   "execution_count": 5,
   "metadata": {},
   "outputs": [
    {
     "data": {
      "text/plain": [
       "'첫번째:30, 두번째:20.67'"
      ]
     },
     "execution_count": 5,
     "metadata": {},
     "output_type": "execute_result"
    }
   ],
   "source": [
    "\"첫번째:{}, 두번째:{}\".format(intValue, floatValue)"
   ]
  },
  {
   "cell_type": "code",
   "execution_count": 6,
   "metadata": {},
   "outputs": [
    {
     "data": {
      "text/plain": [
       "'첫번째:30, 두번째:20.67'"
      ]
     },
     "execution_count": 6,
     "metadata": {},
     "output_type": "execute_result"
    }
   ],
   "source": [
    "\"첫번째:{0}, 두번째:{1}\".format(intValue, floatValue)"
   ]
  },
  {
   "cell_type": "code",
   "execution_count": 7,
   "metadata": {},
   "outputs": [
    {
     "data": {
      "text/plain": [
       "'첫번째:20.67, 두번째:30'"
      ]
     },
     "execution_count": 7,
     "metadata": {},
     "output_type": "execute_result"
    }
   ],
   "source": [
    "\"첫번째:{1}, 두번째:{0}\".format(intValue, floatValue)"
   ]
  },
  {
   "cell_type": "code",
   "execution_count": 19,
   "metadata": {},
   "outputs": [
    {
     "data": {
      "text/plain": [
       "'최대값 :20, 최소값 : 3'"
      ]
     },
     "execution_count": 19,
     "metadata": {},
     "output_type": "execute_result"
    }
   ],
   "source": [
    "datas = [10, 3, 5, 20, 6]\n",
    "\"최대값 :{}, 최소값 : {}\".format(max(datas), min(datas))"
   ]
  },
  {
   "cell_type": "code",
   "execution_count": 20,
   "metadata": {},
   "outputs": [
    {
     "data": {
      "text/plain": [
       "[10, 3, 5, 20, 6]"
      ]
     },
     "execution_count": 20,
     "metadata": {},
     "output_type": "execute_result"
    }
   ],
   "source": [
    "datas"
   ]
  },
  {
   "cell_type": "code",
   "execution_count": 34,
   "metadata": {},
   "outputs": [
    {
     "data": {
      "text/plain": [
       "'리스트로 인스 전달하는 방법 : 5'"
      ]
     },
     "execution_count": 34,
     "metadata": {},
     "output_type": "execute_result"
    }
   ],
   "source": [
    "# datas는 1차원 구조의 list 따라서 [][](2차원 의미) 문법 사용 불가\n",
    "\"리스트로 인스 전달하는 방법 : {[2]}\".format(datas)"
   ]
  },
  {
   "cell_type": "code",
   "execution_count": 22,
   "metadata": {},
   "outputs": [],
   "source": [
    "# 중첩 list 즉 2차원 구조와 흡사\n",
    "datas2 = [[1, 2],[6, 7]]"
   ]
  },
  {
   "cell_type": "code",
   "execution_count": 30,
   "metadata": {},
   "outputs": [
    {
     "data": {
      "text/plain": [
       "'리스트로 인스 전달하는 방법 : 7'"
      ]
     },
     "execution_count": 30,
     "metadata": {},
     "output_type": "execute_result"
    }
   ],
   "source": [
    "\"리스트로 인스 전달하는 방법 : {[1][1]}\".format(datas2) #7"
   ]
  },
  {
   "cell_type": "code",
   "execution_count": 35,
   "metadata": {},
   "outputs": [
    {
     "data": {
      "text/plain": [
       "'겨울 날씨 춥다, 2019년 한달 반 후'"
      ]
     },
     "execution_count": 35,
     "metadata": {},
     "output_type": "execute_result"
    }
   ],
   "source": [
    "# 키워드 인수 사용 \n",
    "\"겨울 날씨 {v1}, 2019년 {v2}\".format(v1='춥다', v2='한달 반 후')"
   ]
  },
  {
   "cell_type": "code",
   "execution_count": 39,
   "metadata": {},
   "outputs": [
    {
     "data": {
      "text/plain": [
       "'겨울 날씨 춥다, 2019년 한달 반 후'"
      ]
     },
     "execution_count": 39,
     "metadata": {},
     "output_type": "execute_result"
    }
   ],
   "source": [
    "# {key:value,...} dict 를 사용한 format_map 함수 예제 만들어 보기\n",
    "datas2 = {'v1':'춥다', 'v2':'한달 반 후'}\n",
    "\"겨울 날씨 {v1}, 2019년 {v2}\".format_map(datas2)"
   ]
  },
  {
   "cell_type": "code",
   "execution_count": null,
   "metadata": {},
   "outputs": [],
   "source": []
  }
 ],
 "metadata": {
  "kernelspec": {
   "display_name": "Python 3",
   "language": "python",
   "name": "python3"
  },
  "language_info": {
   "codemirror_mode": {
    "name": "ipython",
    "version": 3
   },
   "file_extension": ".py",
   "mimetype": "text/x-python",
   "name": "python",
   "nbconvert_exporter": "python",
   "pygments_lexer": "ipython3",
   "version": "3.7.0"
  }
 },
 "nbformat": 4,
 "nbformat_minor": 2
}
