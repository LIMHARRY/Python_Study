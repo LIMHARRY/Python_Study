{
 "cells": [
  {
   "cell_type": "markdown",
   "metadata": {},
   "source": [
    "# NumPy Basics"
   ]
  },
  {
   "cell_type": "markdown",
   "metadata": {},
   "source": [
    "1. Review를 위한 단계\n",
    "- 방식 : chapter04 장을 보면서 이해하고 주석 달기\n",
    "- 제출 방식 : 강사가 제시한 폴더에 파일명 수정해서 제출하\n",
    "- 파일명 : **step05_bookReview임동원.ipynb**"
   ]
  },
  {
   "cell_type": "code",
   "execution_count": 30,
   "metadata": {},
   "outputs": [],
   "source": [
    "import numpy as np\n",
    "import pandas as pd"
   ]
  },
  {
   "cell_type": "markdown",
   "metadata": {},
   "source": [
    "## The NumPy ndarray: A Multidimensional Array Object"
   ]
  },
  {
   "cell_type": "code",
   "execution_count": 18,
   "metadata": {},
   "outputs": [
    {
     "data": {
      "text/plain": [
       "array([[ 1.49104786, -0.99780067,  0.90570906],\n",
       "       [-0.04820493,  0.85520794, -0.34769676]])"
      ]
     },
     "execution_count": 18,
     "metadata": {},
     "output_type": "execute_result"
    }
   ],
   "source": [
    "#randn이라는 함수는 (a,b)에 숫자를 입력하면, axb사이즈의 행렬을 자동으로 만드는 것으로 추정된다. \n",
    "#출력되는 원소값들은 각각 평균0, 분산1의 데이터가 임의로 출력된다.\n",
    "data = np.random.randn(2, 3)\n",
    "data"
   ]
  },
  {
   "cell_type": "code",
   "execution_count": 19,
   "metadata": {},
   "outputs": [
    {
     "data": {
      "text/plain": [
       "array([[ 0.96794594, -0.53207529, -0.27576025,  1.03477816],\n",
       "       [-0.52431706,  1.23084749, -0.33343193, -0.68469487],\n",
       "       [-1.84050898,  1.36978023, -1.00195896, -0.2918403 ]])"
      ]
     },
     "execution_count": 19,
     "metadata": {},
     "output_type": "execute_result"
    }
   ],
   "source": [
    "data = np.random.randn(3, 4)\n",
    "data"
   ]
  },
  {
   "cell_type": "code",
   "execution_count": 22,
   "metadata": {},
   "outputs": [
    {
     "name": "stdout",
     "output_type": "stream",
     "text": [
      "[[  9.67945935  -5.32075294  -2.75760247  10.34778157]\n",
      " [ -5.24317057  12.30847493  -3.3343193   -6.84694871]\n",
      " [-18.40508982  13.69780227 -10.01958958  -2.91840305]]\n",
      "[[ 1.93589187 -1.06415059 -0.55152049  2.06955631]\n",
      " [-1.04863411  2.46169499 -0.66686386 -1.36938974]\n",
      " [-3.68101796  2.73956045 -2.00391792 -0.58368061]]\n"
     ]
    }
   ],
   "source": [
    "print(data * 10)\n",
    "print(data + data)\n",
    "#data는 array형태이기 때문에, array*10는 각 요소에 10을 곱한 값들이 출력되고, \n",
    "#array+array의 경우 같은 행 같은 열의 성분이 더해진 값들이 출력된다."
   ]
  },
  {
   "cell_type": "code",
   "execution_count": 25,
   "metadata": {},
   "outputs": [
    {
     "name": "stdout",
     "output_type": "stream",
     "text": [
      "(3, 4)\n",
      "float64\n"
     ]
    }
   ],
   "source": [
    "print(data.shape)# data는 3행4열의 행렬구조이다.\n",
    "print(data.dtype)# data의 모든 요소는 평균0, 분산1의 임의의 데이터값들이므로 float값이다."
   ]
  },
  {
   "cell_type": "markdown",
   "metadata": {},
   "source": [
    "### Creating ndarrays"
   ]
  },
  {
   "cell_type": "code",
   "execution_count": 27,
   "metadata": {},
   "outputs": [
    {
     "data": {
      "text/plain": [
       "array([6. , 7.5, 8. , 0. , 1. ])"
      ]
     },
     "execution_count": 27,
     "metadata": {},
     "output_type": "execute_result"
    }
   ],
   "source": [
    "#리스트와  np.array는 비슷해 보이지만 차이가 있다. 예를들어, 리스트*2의 경우, 동일한 원소값들이 2번 반복되어 출력된다.\n",
    "#하지만 array의 경우 array*2를 하면 각 요소가 2배가 된 array가 출력된다.\n",
    "data1 = [6, 7.5, 8, 0, 1]\n",
    "arr1 = np.array(data1)\n",
    "arr1"
   ]
  },
  {
   "cell_type": "code",
   "execution_count": 32,
   "metadata": {},
   "outputs": [
    {
     "data": {
      "text/plain": [
       "array([[1, 2, 3, 4],\n",
       "       [5, 6, 7, 8]])"
      ]
     },
     "execution_count": 32,
     "metadata": {},
     "output_type": "execute_result"
    }
   ],
   "source": [
    "#다음 array는 2차원 배열로 흔히 수학에서 쓰이는 행렬과 같은 구조라고 볼 수 있으며, \n",
    "#판다스에서 가장 많이 쓰이는 자료형인 DataFrame형태로 변경 가능하다.\n",
    "#문법은 pd.DataFrame(data2) 이다.\n",
    "data2 = [[1, 2, 3, 4], [5, 6, 7, 8]]\n",
    "arr2 = np.array(data2)\n",
    "arr2"
   ]
  },
  {
   "cell_type": "code",
   "execution_count": 40,
   "metadata": {},
   "outputs": [
    {
     "name": "stdout",
     "output_type": "stream",
     "text": [
      "2\n",
      "(2, 4)\n"
     ]
    }
   ],
   "source": [
    "#arr2는 2행 4열 행렬형태이며 2차원 배열이다\n",
    "print(arr2.ndim)\n",
    "print(arr2.shape)"
   ]
  },
  {
   "cell_type": "code",
   "execution_count": 41,
   "metadata": {},
   "outputs": [
    {
     "name": "stdout",
     "output_type": "stream",
     "text": [
      "float64\n",
      "int32\n"
     ]
    }
   ],
   "source": [
    "#array의 경우, array의 값이 하나라도 float이면 모든 값이 float으로 저장되고, 모두가 int인 경우에만 int로 저장된다.\n",
    "print(arr1.dtype)\n",
    "print(arr2.dtype)"
   ]
  },
  {
   "cell_type": "code",
   "execution_count": 42,
   "metadata": {},
   "outputs": [
    {
     "name": "stdout",
     "output_type": "stream",
     "text": [
      "[0. 0. 0. 0. 0. 0. 0. 0. 0. 0.]\n",
      "[[0. 0. 0. 0. 0. 0.]\n",
      " [0. 0. 0. 0. 0. 0.]\n",
      " [0. 0. 0. 0. 0. 0.]]\n"
     ]
    }
   ],
   "source": [
    "#np.zeros는 괄호 안에 배열의 크기가 들어가게 된다.\n",
    "#np.zeros(10)의경우 10개의 데이터가 0으로 채워진 1차원 배열이 나오고,\n",
    "#np.zeros((3,6))의 경우 3x6행렬의 shape가 모두 0으로 채워진 배열이 출력된다.\n",
    "print(np.zeros(10))\n",
    "print(np.zeros((3, 6)))"
   ]
  },
  {
   "cell_type": "code",
   "execution_count": 45,
   "metadata": {},
   "outputs": [
    {
     "name": "stdout",
     "output_type": "stream",
     "text": [
      "[ 0  1  2  3  4  5  6  7  8  9 10 11 12 13 14]\n",
      "[ 2  3  4  5  6  7  8  9 10 11 12 13 14]\n",
      "[ 2  4  6  8 10 12 14]\n"
     ]
    },
    {
     "data": {
      "text/plain": [
       "numpy.ndarray"
      ]
     },
     "execution_count": 45,
     "metadata": {},
     "output_type": "execute_result"
    }
   ],
   "source": [
    "#np.arange는 괄호 안에 숫자까지, 그 숫자를 제외하고 default값인 0부터 1씩 증가시키며 출력한다\n",
    "print(np.arange(15))\n",
    "#값을 2개를 주어 시작값을 조정할 수 있다.\n",
    "print(np.arange(2,15))\n",
    "#값을 3개를 주어 시작과 끝, 그리고 간격까지 조정 할 수 있다.\n",
    "print(np.arange(2,15,2))\n",
    "type(np.arange(2,15))"
   ]
  },
  {
   "cell_type": "markdown",
   "metadata": {},
   "source": [
    "### Data Types for ndarrays"
   ]
  },
  {
   "cell_type": "code",
   "execution_count": 47,
   "metadata": {},
   "outputs": [
    {
     "name": "stdout",
     "output_type": "stream",
     "text": [
      "float64\n",
      "int32\n"
     ]
    }
   ],
   "source": [
    "#dtype함수를 이용하여 array의 원소값들의 type을 조정할 수 있다.\n",
    "arr1 = np.array([1, 2, 3], dtype=np.float64)\n",
    "arr2 = np.array([1, 2, 3], dtype=np.int32)\n",
    "print(arr1.dtype)\n",
    "print(arr2.dtype)"
   ]
  },
  {
   "cell_type": "code",
   "execution_count": 48,
   "metadata": {},
   "outputs": [
    {
     "data": {
      "text/plain": [
       "dtype('float64')"
      ]
     },
     "execution_count": 48,
     "metadata": {},
     "output_type": "execute_result"
    }
   ],
   "source": [
    "arr = np.array([1, 2, 3, 4, 5])\n",
    "arr.dtype\n",
    "float_arr = arr.astype(np.float64)\n",
    "float_arr.dtype"
   ]
  },
  {
   "cell_type": "code",
   "execution_count": 50,
   "metadata": {},
   "outputs": [
    {
     "data": {
      "text/plain": [
       "array([ 3, -1, -2,  0, 12, 10])"
      ]
     },
     "execution_count": 50,
     "metadata": {},
     "output_type": "execute_result"
    }
   ],
   "source": [
    "arr = np.array([3.7, -1.2, -2.6, 0.5, 12.9, 10.1])\n",
    "arr\n",
    "arr.astype(np.int32)\n",
    "#astype함수를 써서 array의 각 원소값들을 정수로 바꿀 수 있다. 이때 소숫점 아래는 모두 반올림이 아닌 버림이다."
   ]
  },
  {
   "cell_type": "code",
   "execution_count": 51,
   "metadata": {},
   "outputs": [
    {
     "data": {
      "text/plain": [
       "array([0., 1., 2., 3., 4., 5., 6., 7., 8., 9.])"
      ]
     },
     "execution_count": 51,
     "metadata": {},
     "output_type": "execute_result"
    }
   ],
   "source": [
    "#astype함수는 파라미터에 np.float64와 같이 명확한 값을 주어도 되고, 다른 특정 array의 데이터타입을 주어도 된다.\n",
    "int_array = np.arange(10)\n",
    "calibers = np.array([.22, .270, .357, .380, .44, .50], dtype=np.float64)\n",
    "int_array.astype(calibers.dtype)"
   ]
  },
  {
   "cell_type": "markdown",
   "metadata": {},
   "source": [
    "### Arithmetic with NumPy Arrays"
   ]
  },
  {
   "cell_type": "code",
   "execution_count": 102,
   "metadata": {},
   "outputs": [
    {
     "name": "stdout",
     "output_type": "stream",
     "text": [
      "[[ 1.  4.  9.]\n",
      " [16. 25. 36.]]\n",
      "[[0. 0. 0.]\n",
      " [0. 0. 0.]]\n"
     ]
    }
   ],
   "source": [
    "#array는 * 혹은 -연산시, 각 원소에 해당 값만큼을 곱해주거나 뺴준다\n",
    "arr = np.array([[1., 2., 3.], [4., 5., 6.]])\n",
    "arr\n",
    "print(arr * arr)\n",
    "print(arr - arr)"
   ]
  },
  {
   "cell_type": "code",
   "execution_count": 103,
   "metadata": {},
   "outputs": [
    {
     "name": "stdout",
     "output_type": "stream",
     "text": [
      "[[1.         0.5        0.33333333]\n",
      " [0.25       0.2        0.16666667]]\n",
      "[[1.         1.41421356 1.73205081]\n",
      " [2.         2.23606798 2.44948974]]\n"
     ]
    }
   ],
   "source": [
    "#제곱 혹은 나누기도 마찬가지이다.\n",
    "print(1 / arr)\n",
    "print(arr ** 0.5)"
   ]
  },
  {
   "cell_type": "code",
   "execution_count": 54,
   "metadata": {},
   "outputs": [
    {
     "data": {
      "text/plain": [
       "array([[False,  True, False],\n",
       "       [ True, False,  True]])"
      ]
     },
     "execution_count": 54,
     "metadata": {},
     "output_type": "execute_result"
    }
   ],
   "source": [
    "#>, <,==와 같은 값들은, 배열간의 해당 성분의 값끼리 비교하여 true 혹은 false를 출력한다\n",
    "arr2 = np.array([[0., 4., 1.], [7., 2., 12.]])\n",
    "arr2\n",
    "arr2 > arr"
   ]
  },
  {
   "cell_type": "markdown",
   "metadata": {},
   "source": [
    "### Basic Indexing and Slicing"
   ]
  },
  {
   "cell_type": "code",
   "execution_count": 55,
   "metadata": {},
   "outputs": [
    {
     "data": {
      "text/plain": [
       "array([ 0,  1,  2,  3,  4, 12, 12, 12,  8,  9])"
      ]
     },
     "execution_count": 55,
     "metadata": {},
     "output_type": "execute_result"
    }
   ],
   "source": [
    "#다음은 array slicing이다. 이때는 리스트와 같은 문법으로 원하는 값들을 출력하거나 수정할 수 있다.\n",
    "arr = np.arange(10)\n",
    "arr\n",
    "arr[5]\n",
    "arr[5:8]\n",
    "arr[5:8] = 12\n",
    "arr"
   ]
  },
  {
   "cell_type": "code",
   "execution_count": 56,
   "metadata": {},
   "outputs": [
    {
     "data": {
      "text/plain": [
       "array([12, 12, 12])"
      ]
     },
     "execution_count": 56,
     "metadata": {},
     "output_type": "execute_result"
    }
   ],
   "source": [
    "arr_slice = arr[5:8]\n",
    "arr_slice"
   ]
  },
  {
   "cell_type": "code",
   "execution_count": 57,
   "metadata": {},
   "outputs": [
    {
     "data": {
      "text/plain": [
       "array([    0,     1,     2,     3,     4,    12, 12345,    12,     8,\n",
       "           9])"
      ]
     },
     "execution_count": 57,
     "metadata": {},
     "output_type": "execute_result"
    }
   ],
   "source": [
    "#array의 일부를 슬라이싱하여 값을 수정하면, 기존의 array 값도 변경되니 이점은 주의해야한다.\n",
    "arr_slice[1] = 12345\n",
    "arr"
   ]
  },
  {
   "cell_type": "code",
   "execution_count": 58,
   "metadata": {},
   "outputs": [
    {
     "data": {
      "text/plain": [
       "array([ 0,  1,  2,  3,  4, 64, 64, 64,  8,  9])"
      ]
     },
     "execution_count": 58,
     "metadata": {},
     "output_type": "execute_result"
    }
   ],
   "source": [
    "#array_slice의 모든 요소를 64로 바꾸는 문법\n",
    "arr_slice[:] = 64\n",
    "arr"
   ]
  },
  {
   "cell_type": "code",
   "execution_count": 105,
   "metadata": {},
   "outputs": [
    {
     "data": {
      "text/plain": [
       "array([7, 8, 9])"
      ]
     },
     "execution_count": 105,
     "metadata": {},
     "output_type": "execute_result"
    }
   ],
   "source": [
    "#2차원 배열에서 []를 하나를 쓰면 가장 고차원에서 하나씩 원소를 찾아간다고 볼 수 있다.\n",
    "#즉 다음 배열은 1차원 3개로 이루어진 2차원이므로 arr2d[2]를하면 1차원중 [2]에 해당하는 값이 출력된다.\n",
    "arr2d = np.array([[1, 2, 3], [4, 5, 6], [7, 8, 9]])\n",
    "arr2d[2]"
   ]
  },
  {
   "cell_type": "code",
   "execution_count": 106,
   "metadata": {},
   "outputs": [
    {
     "name": "stdout",
     "output_type": "stream",
     "text": [
      "3\n",
      "3\n"
     ]
    }
   ],
   "source": [
    "#두개는 같은 문법이라고 보면된다.\n",
    "print(arr2d[0][2])\n",
    "print(arr2d[0, 2])"
   ]
  },
  {
   "cell_type": "code",
   "execution_count": 61,
   "metadata": {},
   "outputs": [
    {
     "data": {
      "text/plain": [
       "array([[[ 1,  2,  3],\n",
       "        [ 4,  5,  6]],\n",
       "\n",
       "       [[ 7,  8,  9],\n",
       "        [10, 11, 12]]])"
      ]
     },
     "execution_count": 61,
     "metadata": {},
     "output_type": "execute_result"
    }
   ],
   "source": [
    "arr3d = np.array([[[1, 2, 3], [4, 5, 6]], [[7, 8, 9], [10, 11, 12]]])\n",
    "arr3d"
   ]
  },
  {
   "cell_type": "code",
   "execution_count": 62,
   "metadata": {},
   "outputs": [
    {
     "data": {
      "text/plain": [
       "array([[1, 2, 3],\n",
       "       [4, 5, 6]])"
      ]
     },
     "execution_count": 62,
     "metadata": {},
     "output_type": "execute_result"
    }
   ],
   "source": [
    "arr3d[0]"
   ]
  },
  {
   "cell_type": "code",
   "execution_count": 63,
   "metadata": {},
   "outputs": [
    {
     "data": {
      "text/plain": [
       "array([[[ 1,  2,  3],\n",
       "        [ 4,  5,  6]],\n",
       "\n",
       "       [[ 7,  8,  9],\n",
       "        [10, 11, 12]]])"
      ]
     },
     "execution_count": 63,
     "metadata": {},
     "output_type": "execute_result"
    }
   ],
   "source": [
    "#copy를 사용하여 값을 수정하면, 원본데이터가 변경되지 않는다.\n",
    "old_values = arr3d[0].copy()\n",
    "arr3d[0] = 42\n",
    "arr3d\n",
    "arr3d[0] = old_values\n",
    "arr3d"
   ]
  },
  {
   "cell_type": "code",
   "execution_count": 64,
   "metadata": {},
   "outputs": [
    {
     "data": {
      "text/plain": [
       "array([7, 8, 9])"
      ]
     },
     "execution_count": 64,
     "metadata": {},
     "output_type": "execute_result"
    }
   ],
   "source": [
    "#arr3d[1][0]과 같은 문법\n",
    "arr3d[1, 0]"
   ]
  },
  {
   "cell_type": "code",
   "execution_count": 65,
   "metadata": {},
   "outputs": [
    {
     "data": {
      "text/plain": [
       "array([7, 8, 9])"
      ]
     },
     "execution_count": 65,
     "metadata": {},
     "output_type": "execute_result"
    }
   ],
   "source": [
    "x = arr3d[1]\n",
    "x\n",
    "x[0]"
   ]
  },
  {
   "cell_type": "markdown",
   "metadata": {},
   "source": [
    "#### Indexing with slices"
   ]
  },
  {
   "cell_type": "code",
   "execution_count": 66,
   "metadata": {},
   "outputs": [
    {
     "data": {
      "text/plain": [
       "array([ 1,  2,  3,  4, 64])"
      ]
     },
     "execution_count": 66,
     "metadata": {},
     "output_type": "execute_result"
    }
   ],
   "source": [
    "arr\n",
    "arr[1:6]"
   ]
  },
  {
   "cell_type": "code",
   "execution_count": 67,
   "metadata": {},
   "outputs": [
    {
     "data": {
      "text/plain": [
       "array([[1, 2, 3],\n",
       "       [4, 5, 6]])"
      ]
     },
     "execution_count": 67,
     "metadata": {},
     "output_type": "execute_result"
    }
   ],
   "source": [
    "arr2d\n",
    "arr2d[:2]"
   ]
  },
  {
   "cell_type": "code",
   "execution_count": 68,
   "metadata": {},
   "outputs": [
    {
     "data": {
      "text/plain": [
       "array([[2, 3],\n",
       "       [5, 6]])"
      ]
     },
     "execution_count": 68,
     "metadata": {},
     "output_type": "execute_result"
    }
   ],
   "source": [
    "arr2d[:2, 1:]"
   ]
  },
  {
   "cell_type": "code",
   "execution_count": 69,
   "metadata": {},
   "outputs": [
    {
     "data": {
      "text/plain": [
       "array([4, 5])"
      ]
     },
     "execution_count": 69,
     "metadata": {},
     "output_type": "execute_result"
    }
   ],
   "source": [
    "arr2d[1, :2]"
   ]
  },
  {
   "cell_type": "code",
   "execution_count": 70,
   "metadata": {},
   "outputs": [
    {
     "data": {
      "text/plain": [
       "array([3, 6])"
      ]
     },
     "execution_count": 70,
     "metadata": {},
     "output_type": "execute_result"
    }
   ],
   "source": [
    "arr2d[:2, 2]"
   ]
  },
  {
   "cell_type": "code",
   "execution_count": 71,
   "metadata": {},
   "outputs": [
    {
     "data": {
      "text/plain": [
       "array([[1],\n",
       "       [4],\n",
       "       [7]])"
      ]
     },
     "execution_count": 71,
     "metadata": {},
     "output_type": "execute_result"
    }
   ],
   "source": [
    "arr2d[:, :1]"
   ]
  },
  {
   "cell_type": "code",
   "execution_count": 72,
   "metadata": {},
   "outputs": [
    {
     "data": {
      "text/plain": [
       "array([[1, 0, 0],\n",
       "       [4, 0, 0],\n",
       "       [7, 8, 9]])"
      ]
     },
     "execution_count": 72,
     "metadata": {},
     "output_type": "execute_result"
    }
   ],
   "source": [
    "arr2d[:2, 1:] = 0\n",
    "arr2d"
   ]
  },
  {
   "cell_type": "markdown",
   "metadata": {},
   "source": [
    "### Boolean Indexing"
   ]
  },
  {
   "cell_type": "code",
   "execution_count": 73,
   "metadata": {},
   "outputs": [
    {
     "data": {
      "text/plain": [
       "array([[ 0.41535237, -1.17441388,  0.88589589, -1.75116902],\n",
       "       [-0.55336588, -0.10240626,  0.85248104, -0.53616813],\n",
       "       [ 1.06164622, -0.55799081,  2.10359018,  0.91245112],\n",
       "       [ 0.14082075, -0.49628492,  0.13580783, -0.61135203],\n",
       "       [-0.68690054, -0.73415952, -1.40633714, -0.54795259],\n",
       "       [-0.4018588 ,  1.6999153 ,  0.2675118 , -0.66629115],\n",
       "       [-0.50392367,  2.0246638 , -0.09048792, -0.63196342]])"
      ]
     },
     "execution_count": 73,
     "metadata": {},
     "output_type": "execute_result"
    }
   ],
   "source": [
    "#7x4 size의 행렬에 평균0,분산1인 데이터들이 무작위로 채워지는 문법\n",
    "names = np.array(['Bob', 'Joe', 'Will', 'Bob', 'Will', 'Joe', 'Joe'])\n",
    "data = np.random.randn(7, 4)\n",
    "names\n",
    "data"
   ]
  },
  {
   "cell_type": "code",
   "execution_count": 74,
   "metadata": {},
   "outputs": [
    {
     "data": {
      "text/plain": [
       "array([ True, False, False,  True, False, False, False])"
      ]
     },
     "execution_count": 74,
     "metadata": {},
     "output_type": "execute_result"
    }
   ],
   "source": [
    "names == 'Bob'\n",
    "#array의 값이 'Bob'이면 true, 아니면 false를 출력하는 문법"
   ]
  },
  {
   "cell_type": "code",
   "execution_count": 75,
   "metadata": {},
   "outputs": [
    {
     "data": {
      "text/plain": [
       "array([[ 0.41535237, -1.17441388,  0.88589589, -1.75116902],\n",
       "       [ 0.14082075, -0.49628492,  0.13580783, -0.61135203]])"
      ]
     },
     "execution_count": 75,
     "metadata": {},
     "output_type": "execute_result"
    }
   ],
   "source": [
    "# names=='Bob'은 0,3번째 요소만 true이다. 따라서 data중 0,3번째 1차원배열만 출력된다\n",
    "data[names == 'Bob']"
   ]
  },
  {
   "cell_type": "code",
   "execution_count": 76,
   "metadata": {},
   "outputs": [
    {
     "data": {
      "text/plain": [
       "array([-1.75116902, -0.61135203])"
      ]
     },
     "execution_count": 76,
     "metadata": {},
     "output_type": "execute_result"
    }
   ],
   "source": [
    "data[names == 'Bob', 2:]\n",
    "data[names == 'Bob', 3]"
   ]
  },
  {
   "cell_type": "code",
   "execution_count": 77,
   "metadata": {},
   "outputs": [
    {
     "data": {
      "text/plain": [
       "array([[ 0.41535237, -1.17441388,  0.88589589, -1.75116902],\n",
       "       [ 1.06164622, -0.55799081,  2.10359018,  0.91245112],\n",
       "       [ 0.14082075, -0.49628492,  0.13580783, -0.61135203],\n",
       "       [-0.68690054, -0.73415952, -1.40633714, -0.54795259]])"
      ]
     },
     "execution_count": 77,
     "metadata": {},
     "output_type": "execute_result"
    }
   ],
   "source": [
    "#|의 경우 둘중 하나만 만족하면 True가 출력된다.\n",
    "mask = (names == 'Bob') | (names == 'Will')\n",
    "mask\n",
    "data[mask]"
   ]
  },
  {
   "cell_type": "code",
   "execution_count": 78,
   "metadata": {},
   "outputs": [
    {
     "data": {
      "text/plain": [
       "array([[0.41535237, 0.        , 0.88589589, 0.        ],\n",
       "       [0.        , 0.        , 0.85248104, 0.        ],\n",
       "       [1.06164622, 0.        , 2.10359018, 0.91245112],\n",
       "       [0.14082075, 0.        , 0.13580783, 0.        ],\n",
       "       [0.        , 0.        , 0.        , 0.        ],\n",
       "       [0.        , 1.6999153 , 0.2675118 , 0.        ],\n",
       "       [0.        , 2.0246638 , 0.        , 0.        ]])"
      ]
     },
     "execution_count": 78,
     "metadata": {},
     "output_type": "execute_result"
    }
   ],
   "source": [
    "#data중 data값이 0보다 작은 원소들을 모두 0으로  바꿔주는 문법\n",
    "data[data < 0] = 0\n",
    "data"
   ]
  },
  {
   "cell_type": "code",
   "execution_count": 79,
   "metadata": {},
   "outputs": [
    {
     "data": {
      "text/plain": [
       "array([[7.        , 7.        , 7.        , 7.        ],\n",
       "       [0.        , 0.        , 0.85248104, 0.        ],\n",
       "       [7.        , 7.        , 7.        , 7.        ],\n",
       "       [7.        , 7.        , 7.        , 7.        ],\n",
       "       [7.        , 7.        , 7.        , 7.        ],\n",
       "       [0.        , 1.6999153 , 0.2675118 , 0.        ],\n",
       "       [0.        , 2.0246638 , 0.        , 0.        ]])"
      ]
     },
     "execution_count": 79,
     "metadata": {},
     "output_type": "execute_result"
    }
   ],
   "source": [
    "data[names != 'Joe'] = 7\n",
    "data"
   ]
  },
  {
   "cell_type": "markdown",
   "metadata": {},
   "source": [
    "### Transposing Arrays and Swapping Axes"
   ]
  },
  {
   "cell_type": "code",
   "execution_count": 80,
   "metadata": {},
   "outputs": [
    {
     "data": {
      "text/plain": [
       "array([[ 0,  5, 10],\n",
       "       [ 1,  6, 11],\n",
       "       [ 2,  7, 12],\n",
       "       [ 3,  8, 13],\n",
       "       [ 4,  9, 14]])"
      ]
     },
     "execution_count": 80,
     "metadata": {},
     "output_type": "execute_result"
    }
   ],
   "source": [
    "#reshape는 아주 빈번히 쓰이는 문법으로 행렬의 shape를 바꿔준다. 이때 arange의 원소의 개수는 reshape의 파라미터값의 곱과 같아야한다.\n",
    "# 즉 15=3x5\n",
    "arr = np.arange(15).reshape((3, 5))\n",
    "arr\n",
    "arr.T"
   ]
  },
  {
   "cell_type": "code",
   "execution_count": 81,
   "metadata": {},
   "outputs": [
    {
     "data": {
      "text/plain": [
       "array([[ 5.27187654,  0.24618509, -3.16285503],\n",
       "       [ 0.24618509,  9.0077469 ,  1.74480747],\n",
       "       [-3.16285503,  1.74480747,  3.48569725]])"
      ]
     },
     "execution_count": 81,
     "metadata": {},
     "output_type": "execute_result"
    }
   ],
   "source": [
    "arr = np.random.randn(6, 3)\n",
    "arr\n",
    "np.dot(arr.T, arr)"
   ]
  },
  {
   "cell_type": "code",
   "execution_count": 82,
   "metadata": {},
   "outputs": [
    {
     "data": {
      "text/plain": [
       "array([[[ 0,  1,  2,  3],\n",
       "        [ 8,  9, 10, 11]],\n",
       "\n",
       "       [[ 4,  5,  6,  7],\n",
       "        [12, 13, 14, 15]]])"
      ]
     },
     "execution_count": 82,
     "metadata": {},
     "output_type": "execute_result"
    }
   ],
   "source": [
    "arr = np.arange(16).reshape((2, 2, 4))\n",
    "arr\n",
    "arr.transpose((1, 0, 2))"
   ]
  },
  {
   "cell_type": "code",
   "execution_count": 83,
   "metadata": {},
   "outputs": [
    {
     "data": {
      "text/plain": [
       "array([[[ 0,  4],\n",
       "        [ 1,  5],\n",
       "        [ 2,  6],\n",
       "        [ 3,  7]],\n",
       "\n",
       "       [[ 8, 12],\n",
       "        [ 9, 13],\n",
       "        [10, 14],\n",
       "        [11, 15]]])"
      ]
     },
     "execution_count": 83,
     "metadata": {},
     "output_type": "execute_result"
    }
   ],
   "source": [
    "arr\n",
    "arr.swapaxes(1, 2)"
   ]
  },
  {
   "cell_type": "markdown",
   "metadata": {},
   "source": [
    "## Universal Functions: Fast Element-Wise Array Functions"
   ]
  },
  {
   "cell_type": "code",
   "execution_count": 84,
   "metadata": {},
   "outputs": [
    {
     "data": {
      "text/plain": [
       "array([0.        , 1.        , 1.41421356, 1.73205081, 2.        ,\n",
       "       2.23606798, 2.44948974, 2.64575131, 2.82842712, 3.        ])"
      ]
     },
     "execution_count": 84,
     "metadata": {},
     "output_type": "execute_result"
    }
   ],
   "source": [
    "#sqrt는 모든 원소에 루트를 씌우는 문법이다\n",
    "arr = np.arange(10)\n",
    "arr\n",
    "np.sqrt(arr)"
   ]
  },
  {
   "cell_type": "code",
   "execution_count": 85,
   "metadata": {},
   "outputs": [
    {
     "data": {
      "text/plain": [
       "array([ 1.80320542,  0.94365204, -0.88626192,  0.53378466,  0.95604756,\n",
       "        1.96128053,  0.45481441,  1.41482666])"
      ]
     },
     "execution_count": 85,
     "metadata": {},
     "output_type": "execute_result"
    }
   ],
   "source": [
    "#np.maximum에 shape가같은 array 2개를 대입하면 각각의 원소 중 더 큰값을 선택하는 array가 출력된다\n",
    "x = np.random.randn(8)\n",
    "y = np.random.randn(8)\n",
    "x\n",
    "y\n",
    "np.maximum(x, y)"
   ]
  },
  {
   "cell_type": "code",
   "execution_count": 111,
   "metadata": {},
   "outputs": [
    {
     "name": "stdout",
     "output_type": "stream",
     "text": [
      "[-0.00128856  0.41292955  0.99675123  0.03532923 -0.0253157  -0.52581228\n",
      " -0.90092124]\n",
      "[-9.  5.  1.  4. -5. -8. -0.]\n"
     ]
    }
   ],
   "source": [
    "#np.modf에 arrray를 대입하면 해당 array의 나머지, 몫이 출력된다\n",
    "#np.random.randn은 대부분의 값이 0에 몰려있으므로 예제에서는 5를 곱해주어 최대한 1의자리값이 0이 아니게 출력했다.\n",
    "arr = np.random.randn(7) * 5\n",
    "arr\n",
    "remainder, whole_part = np.modf(arr)\n",
    "print(remainder)\n",
    "print(whole_part)"
   ]
  },
  {
   "cell_type": "code",
   "execution_count": 113,
   "metadata": {},
   "outputs": [
    {
     "name": "stdout",
     "output_type": "stream",
     "text": [
      "[       nan 2.32657034 1.41306448 2.00881289        nan        nan\n",
      "        nan]\n",
      "[       nan 1.52530992 1.18872389 1.41732597        nan        nan\n",
      "        nan]\n",
      "[       nan 1.52530992 1.18872389 1.41732597        nan        nan\n",
      "        nan]\n",
      "[       nan 1.52530992 1.18872389 1.41732597        nan        nan\n",
      "        nan]\n"
     ]
    }
   ],
   "source": [
    "#모든 원소의 루트값을 출력하는 문법\n",
    "print(arr)\n",
    "print(np.sqrt(arr))\n",
    "print(np.sqrt(arr, arr))\n",
    "print(arr)"
   ]
  },
  {
   "cell_type": "markdown",
   "metadata": {},
   "source": [
    "### Expressing Conditional Logic as Array Operations"
   ]
  },
  {
   "cell_type": "code",
   "execution_count": 114,
   "metadata": {},
   "outputs": [],
   "source": [
    "xarr = np.array([1.1, 1.2, 1.3, 1.4, 1.5])\n",
    "yarr = np.array([2.1, 2.2, 2.3, 2.4, 2.5])\n",
    "cond = np.array([True, False, True, True, False])"
   ]
  },
  {
   "cell_type": "code",
   "execution_count": 89,
   "metadata": {},
   "outputs": [
    {
     "data": {
      "text/plain": [
       "[1.1, 2.2, 1.3, 1.4, 2.5]"
      ]
     },
     "execution_count": 89,
     "metadata": {},
     "output_type": "execute_result"
    }
   ],
   "source": [
    "#zip 함수를 이용해 xarr,yarr,cond를 묶고, cond가 True이면 x,Flase이면 y값으로 이루어진 list를 comprehension을 이용해 출력하기\n",
    "result = [(x if c else y)\n",
    "          for x, y, c in zip(xarr, yarr, cond)]\n",
    "result"
   ]
  },
  {
   "cell_type": "code",
   "execution_count": 90,
   "metadata": {},
   "outputs": [
    {
     "data": {
      "text/plain": [
       "array([1.1, 2.2, 1.3, 1.4, 2.5])"
      ]
     },
     "execution_count": 90,
     "metadata": {},
     "output_type": "execute_result"
    }
   ],
   "source": [
    "#where함수는 파라미터로 3개의 값을 갖는데, 첫번째 값에 Boolean값이 오고, 맞으면 두번째값, 틀리면 3번째값을 출력한다\n",
    "#즉 바로 위 코드를 간단하게 표현한다고 볼 수 있다.\n",
    "result = np.where(cond, xarr, yarr)\n",
    "result"
   ]
  },
  {
   "cell_type": "code",
   "execution_count": 91,
   "metadata": {},
   "outputs": [
    {
     "data": {
      "text/plain": [
       "array([[ 2,  2, -2,  2],\n",
       "       [-2,  2, -2, -2],\n",
       "       [ 2, -2, -2,  2],\n",
       "       [ 2, -2,  2, -2]])"
      ]
     },
     "execution_count": 91,
     "metadata": {},
     "output_type": "execute_result"
    }
   ],
   "source": [
    "arr = np.random.randn(4, 4)\n",
    "arr\n",
    "arr > 0\n",
    "np.where(arr > 0, 2, -2)"
   ]
  },
  {
   "cell_type": "code",
   "execution_count": 92,
   "metadata": {},
   "outputs": [
    {
     "data": {
      "text/plain": [
       "array([[ 2.        ,  2.        , -0.679801  ,  2.        ],\n",
       "       [-0.54622613,  2.        , -0.18069466, -0.10164749],\n",
       "       [ 2.        , -0.72403838, -1.41682207,  2.        ],\n",
       "       [ 2.        , -0.66344338,  2.        , -0.36140009]])"
      ]
     },
     "execution_count": 92,
     "metadata": {},
     "output_type": "execute_result"
    }
   ],
   "source": [
    "np.where(arr > 0, 2, arr) # set only positive values to 2"
   ]
  },
  {
   "cell_type": "markdown",
   "metadata": {},
   "source": [
    "### Mathematical and Statistical Methods"
   ]
  },
  {
   "cell_type": "code",
   "execution_count": 115,
   "metadata": {},
   "outputs": [
    {
     "name": "stdout",
     "output_type": "stream",
     "text": [
      "[[ 0.3087332  -0.67133876  1.41040812  1.09523273]\n",
      " [ 0.77182942  0.30008762  0.50774698  1.62847234]\n",
      " [ 1.08793309 -0.84805517 -0.86610736  1.16004202]\n",
      " [ 0.49694469 -0.03581642  1.67538558 -2.18419349]\n",
      " [ 1.71716783  0.10717754 -0.76897657  0.3005662 ]]\n",
      "0.35966197975379754\n",
      "0.35966197975379754\n",
      "7.1932395950759505\n"
     ]
    }
   ],
   "source": [
    "arr = np.random.randn(5, 4)\n",
    "print(arr)\n",
    "print(arr.mean())\n",
    "print(np.mean(arr))\n",
    "print(arr.sum())\n",
    "#array. 이후 mean,sum이오면 각각 모든원소의 평균,합 을 출력한다."
   ]
  },
  {
   "cell_type": "code",
   "execution_count": 116,
   "metadata": {},
   "outputs": [
    {
     "name": "stdout",
     "output_type": "stream",
     "text": [
      "[ 0.53575882  0.80203409  0.13345314 -0.01191991  0.33898375]\n",
      "[ 4.38260823 -1.14794518  1.95845676  2.0001198 ]\n"
     ]
    }
   ],
   "source": [
    "print(arr.mean(axis=1))\n",
    "print(arr.sum(axis=0))\n",
    "#mean(axis=1)의 경우 행에 대한 평균을 출력하고\n",
    "#sum(axis=0)의 경우 열에 대한 합을 출력한다."
   ]
  },
  {
   "cell_type": "code",
   "execution_count": 95,
   "metadata": {},
   "outputs": [
    {
     "data": {
      "text/plain": [
       "array([ 0,  1,  3,  6, 10, 15, 21, 28], dtype=int32)"
      ]
     },
     "execution_count": 95,
     "metadata": {},
     "output_type": "execute_result"
    }
   ],
   "source": [
    "arr = np.array([0, 1, 2, 3, 4, 5, 6, 7])\n",
    "arr.cumsum()"
   ]
  },
  {
   "cell_type": "code",
   "execution_count": 96,
   "metadata": {},
   "outputs": [
    {
     "data": {
      "text/plain": [
       "array([[  0,   0,   0],\n",
       "       [  3,  12,  60],\n",
       "       [  6,  42, 336]], dtype=int32)"
      ]
     },
     "execution_count": 96,
     "metadata": {},
     "output_type": "execute_result"
    }
   ],
   "source": [
    "arr = np.array([[0, 1, 2], [3, 4, 5], [6, 7, 8]])\n",
    "arr\n",
    "arr.cumsum(axis=0)\n",
    "arr.cumprod(axis=1)"
   ]
  },
  {
   "cell_type": "markdown",
   "metadata": {},
   "source": [
    "### Methods for Boolean Arrays"
   ]
  },
  {
   "cell_type": "code",
   "execution_count": 122,
   "metadata": {},
   "outputs": [
    {
     "data": {
      "text/plain": [
       "4"
      ]
     },
     "execution_count": 122,
     "metadata": {},
     "output_type": "execute_result"
    }
   ],
   "source": [
    "arr = np.random.randn(100)\n",
    "(arr > 0).sum() # Number of positive values\n",
    "\n",
    "(np.array([[3,4,2,3,5]])>2).sum()#np.array의 boolean값을 판단하여 True가 총 몇개인지 출력한다\n",
    "#위 기능은 list 의 경우 지원해주지 않는다. 이상하다이상해~~"
   ]
  },
  {
   "cell_type": "code",
   "execution_count": 123,
   "metadata": {},
   "outputs": [
    {
     "name": "stdout",
     "output_type": "stream",
     "text": [
      "True\n",
      "False\n"
     ]
    }
   ],
   "source": [
    "# .any함수는 하나라도 True이면 True가 출력되고, .all함수는 모두 True일때만 True가 출력된다,\n",
    "bools = np.array([False, False, True, False])\n",
    "print(bools.any())\n",
    "print(bools.all())"
   ]
  },
  {
   "cell_type": "markdown",
   "metadata": {},
   "source": [
    "### Sorting"
   ]
  },
  {
   "cell_type": "code",
   "execution_count": 99,
   "metadata": {},
   "outputs": [
    {
     "data": {
      "text/plain": [
       "array([-1.2427884 , -0.44137625, -0.10915251, -0.003575  ,  0.26877908,\n",
       "        1.06710568])"
      ]
     },
     "execution_count": 99,
     "metadata": {},
     "output_type": "execute_result"
    }
   ],
   "source": [
    "arr = np.random.randn(6)\n",
    "arr\n",
    "arr.sort()\n",
    "arr"
   ]
  },
  {
   "cell_type": "code",
   "execution_count": 124,
   "metadata": {},
   "outputs": [
    {
     "data": {
      "text/plain": [
       "array([[-3.24131018, -1.50844959,  0.35166859],\n",
       "       [-0.11502166,  0.12139423,  0.48861439],\n",
       "       [ 0.44745671,  0.96737468,  1.9359664 ],\n",
       "       [-0.71538691,  0.92719854,  1.68718903],\n",
       "       [-0.02932092,  0.5176829 ,  1.45904763]])"
      ]
     },
     "execution_count": 124,
     "metadata": {},
     "output_type": "execute_result"
    }
   ],
   "source": [
    "arr = np.random.randn(5, 3)\n",
    "arr\n",
    "arr.sort(1)\n",
    "arr"
   ]
  },
  {
   "cell_type": "code",
   "execution_count": 128,
   "metadata": {},
   "outputs": [
    {
     "name": "stdout",
     "output_type": "stream",
     "text": [
      "[ 1.08891115  0.45442743  1.19286241 -0.0790334  -1.29590113  0.23026187\n",
      " -0.30544632 -0.40802694  0.20626269 -0.42223218 -0.67221492  0.96771741\n",
      " -1.23423214  0.12390471  0.15273721 -0.27760638 -0.49698978  0.81100254\n",
      " -0.82422012  0.83407302 -1.77772466  1.21094743 -0.45509253 -0.21582953\n",
      " -1.51360255  1.71698519 -1.04057075  1.00648084 -0.97276745  0.16699026\n",
      "  0.98262085  0.64628157  0.69444152 -0.34765388  0.03954807 -1.31720401\n",
      "  1.6380037  -1.91157558  1.3029423  -0.34981297  0.93432103  0.93226306\n",
      " -0.23392275 -0.26019022  1.69232326 -0.44627028 -0.57749557 -0.26114525\n",
      " -1.285926    1.86656886  0.99075989 -0.56408164 -1.72405654  0.29297276\n",
      " -0.39010816 -0.98322242  0.6873921  -0.12356246  0.01695383 -0.16774979\n",
      "  1.23222231  1.52767952 -0.40175493  0.05306919 -0.21362296 -1.64561955\n",
      " -0.53900046  0.82048955 -1.44118397 -1.66576265 -1.67508366 -0.65215153\n",
      " -1.18074427 -0.87541107 -0.5093626   0.6385733  -0.79356961 -0.5114811\n",
      "  1.38851363 -0.47269293  0.16561644  1.09356584 -1.37451674  0.8487699\n",
      " -2.79995527  1.0816841  -1.24610943  1.60698489 -0.75770262  0.40950133\n",
      " -1.77509916  0.11850913  1.01041287 -0.82870138 -2.25879485 -0.61502411\n",
      "  0.12808584  0.10956402  2.61729351 -1.74478005]\n",
      "[-2.79995527 -2.25879485 -1.91157558 -1.77772466 -1.77509916 -1.74478005\n",
      " -1.72405654 -1.67508366 -1.66576265 -1.64561955 -1.51360255 -1.44118397\n",
      " -1.37451674 -1.31720401 -1.29590113 -1.285926   -1.24610943 -1.23423214\n",
      " -1.18074427 -1.04057075 -0.98322242 -0.97276745 -0.87541107 -0.82870138\n",
      " -0.82422012 -0.79356961 -0.75770262 -0.67221492 -0.65215153 -0.61502411\n",
      " -0.57749557 -0.56408164 -0.53900046 -0.5114811  -0.5093626  -0.49698978\n",
      " -0.47269293 -0.45509253 -0.44627028 -0.42223218 -0.40802694 -0.40175493\n",
      " -0.39010816 -0.34981297 -0.34765388 -0.30544632 -0.27760638 -0.26114525\n",
      " -0.26019022 -0.23392275 -0.21582953 -0.21362296 -0.16774979 -0.12356246\n",
      " -0.0790334   0.01695383  0.03954807  0.05306919  0.10956402  0.11850913\n",
      "  0.12390471  0.12808584  0.15273721  0.16561644  0.16699026  0.20626269\n",
      "  0.23026187  0.29297276  0.40950133  0.45442743  0.6385733   0.64628157\n",
      "  0.6873921   0.69444152  0.81100254  0.82048955  0.83407302  0.8487699\n",
      "  0.93226306  0.93432103  0.96771741  0.98262085  0.99075989  1.00648084\n",
      "  1.01041287  1.0816841   1.08891115  1.09356584  1.19286241  1.21094743\n",
      "  1.23222231  1.3029423   1.38851363  1.52767952  1.60698489  1.6380037\n",
      "  1.69232326  1.71698519  1.86656886  2.61729351]\n",
      "-1.7447800467213204\n"
     ]
    }
   ],
   "source": [
    "large_arr = np.random.randn(100)\n",
    "print(large_arr) #무작위로 10개의 값을 출력\n",
    "large_arr.sort()\n",
    "print(large_arr) #위에 출력된 값들을 정렬시킨 array. default값은 오름차순\n",
    "print(large_arr[int(0.05 * len(large_arr))])# 5% quantile\n",
    "#마지막문법을 보면, 순서대로 정렬된 값들의 밑에서 5퍼센트의 값을 정수로 변환하여 index를 취하고 있다.\n",
    "#이때 데이터가 총 100개라면, 하위 5퍼센트는 100*0.05인 5번째 index값일 것이다 따라서 정렬된 리스트중 5번째 index값의 원소가 출력된다"
   ]
  },
  {
   "cell_type": "code",
   "execution_count": null,
   "metadata": {},
   "outputs": [],
   "source": []
  }
 ],
 "metadata": {
  "kernelspec": {
   "display_name": "Python 3",
   "language": "python",
   "name": "python3"
  },
  "language_info": {
   "codemirror_mode": {
    "name": "ipython",
    "version": 3
   },
   "file_extension": ".py",
   "mimetype": "text/x-python",
   "name": "python",
   "nbconvert_exporter": "python",
   "pygments_lexer": "ipython3",
   "version": "3.7.0"
  }
 },
 "nbformat": 4,
 "nbformat_minor": 1
}
